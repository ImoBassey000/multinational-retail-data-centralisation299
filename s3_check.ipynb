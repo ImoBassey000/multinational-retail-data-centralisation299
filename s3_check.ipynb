{
 "cells": [
  {
   "cell_type": "code",
   "execution_count": 52,
   "metadata": {},
   "outputs": [],
   "source": [
    "import boto3\n",
    "import yaml\n",
    "import pandas as pd\n",
    "from io import StringIO\n",
    "import numpy as np"
   ]
  },
  {
   "cell_type": "code",
   "execution_count": 53,
   "metadata": {},
   "outputs": [],
   "source": [
    "date_times_df = pd.read_json('https://data-handling-public.s3.eu-west-1.amazonaws.com/date_details.json')"
   ]
  },
  {
   "cell_type": "code",
   "execution_count": 54,
   "metadata": {},
   "outputs": [
    {
     "name": "stdout",
     "output_type": "stream",
     "text": [
      "<class 'pandas.core.frame.DataFrame'>\n",
      "Index: 120161 entries, 0 to 120160\n",
      "Data columns (total 6 columns):\n",
      " #   Column       Non-Null Count   Dtype \n",
      "---  ------       --------------   ----- \n",
      " 0   timestamp    120161 non-null  object\n",
      " 1   month        120161 non-null  object\n",
      " 2   year         120161 non-null  object\n",
      " 3   day          120161 non-null  object\n",
      " 4   time_period  120161 non-null  object\n",
      " 5   date_uuid    120161 non-null  object\n",
      "dtypes: object(6)\n",
      "memory usage: 6.4+ MB\n"
     ]
    }
   ],
   "source": [
    "date_times_df.info()"
   ]
  },
  {
   "cell_type": "code",
   "execution_count": 55,
   "metadata": {},
   "outputs": [],
   "source": [
    "date_times_df.replace({'NULL': np.nan, 'nan': np.nan}, inplace=True)"
   ]
  },
  {
   "cell_type": "code",
   "execution_count": 56,
   "metadata": {},
   "outputs": [
    {
     "data": {
      "text/html": [
       "<div>\n",
       "<style scoped>\n",
       "    .dataframe tbody tr th:only-of-type {\n",
       "        vertical-align: middle;\n",
       "    }\n",
       "\n",
       "    .dataframe tbody tr th {\n",
       "        vertical-align: top;\n",
       "    }\n",
       "\n",
       "    .dataframe thead th {\n",
       "        text-align: right;\n",
       "    }\n",
       "</style>\n",
       "<table border=\"1\" class=\"dataframe\">\n",
       "  <thead>\n",
       "    <tr style=\"text-align: right;\">\n",
       "      <th></th>\n",
       "      <th>timestamp</th>\n",
       "      <th>month</th>\n",
       "      <th>year</th>\n",
       "      <th>day</th>\n",
       "      <th>time_period</th>\n",
       "      <th>date_uuid</th>\n",
       "    </tr>\n",
       "  </thead>\n",
       "  <tbody>\n",
       "    <tr>\n",
       "      <th>0</th>\n",
       "      <td>22:00:06</td>\n",
       "      <td>9</td>\n",
       "      <td>2012</td>\n",
       "      <td>19</td>\n",
       "      <td>Evening</td>\n",
       "      <td>3b7ca996-37f9-433f-b6d0-ce8391b615ad</td>\n",
       "    </tr>\n",
       "    <tr>\n",
       "      <th>1</th>\n",
       "      <td>22:44:06</td>\n",
       "      <td>2</td>\n",
       "      <td>1997</td>\n",
       "      <td>10</td>\n",
       "      <td>Evening</td>\n",
       "      <td>adc86836-6c35-49ca-bb0d-65b6507a00fa</td>\n",
       "    </tr>\n",
       "    <tr>\n",
       "      <th>2</th>\n",
       "      <td>10:05:37</td>\n",
       "      <td>4</td>\n",
       "      <td>1994</td>\n",
       "      <td>15</td>\n",
       "      <td>Morning</td>\n",
       "      <td>5ff791bf-d8e0-4f86-8ceb-c7b60bef9b31</td>\n",
       "    </tr>\n",
       "    <tr>\n",
       "      <th>3</th>\n",
       "      <td>17:29:27</td>\n",
       "      <td>11</td>\n",
       "      <td>2001</td>\n",
       "      <td>6</td>\n",
       "      <td>Midday</td>\n",
       "      <td>1b01fcef-5ab9-404c-b0d4-1e75a0bd19d8</td>\n",
       "    </tr>\n",
       "    <tr>\n",
       "      <th>4</th>\n",
       "      <td>22:40:33</td>\n",
       "      <td>12</td>\n",
       "      <td>2015</td>\n",
       "      <td>31</td>\n",
       "      <td>Evening</td>\n",
       "      <td>dfa907c1-f6c5-40f0-aa0d-40ed77ac5a44</td>\n",
       "    </tr>\n",
       "    <tr>\n",
       "      <th>...</th>\n",
       "      <td>...</td>\n",
       "      <td>...</td>\n",
       "      <td>...</td>\n",
       "      <td>...</td>\n",
       "      <td>...</td>\n",
       "      <td>...</td>\n",
       "    </tr>\n",
       "    <tr>\n",
       "      <th>120156</th>\n",
       "      <td>22:56:56</td>\n",
       "      <td>11</td>\n",
       "      <td>2022</td>\n",
       "      <td>12</td>\n",
       "      <td>Evening</td>\n",
       "      <td>d6c4fb31-720d-4e94-aa6b-dcbcb85f2bb7</td>\n",
       "    </tr>\n",
       "    <tr>\n",
       "      <th>120157</th>\n",
       "      <td>18:25:20</td>\n",
       "      <td>5</td>\n",
       "      <td>1997</td>\n",
       "      <td>31</td>\n",
       "      <td>Evening</td>\n",
       "      <td>f7722027-1aae-49c3-8f8d-853e93f9f3e6</td>\n",
       "    </tr>\n",
       "    <tr>\n",
       "      <th>120158</th>\n",
       "      <td>18:21:40</td>\n",
       "      <td>9</td>\n",
       "      <td>2011</td>\n",
       "      <td>13</td>\n",
       "      <td>Evening</td>\n",
       "      <td>4a3b9851-52e1-463c-ac81-1960f141444e</td>\n",
       "    </tr>\n",
       "    <tr>\n",
       "      <th>120159</th>\n",
       "      <td>19:10:53</td>\n",
       "      <td>7</td>\n",
       "      <td>2013</td>\n",
       "      <td>12</td>\n",
       "      <td>Evening</td>\n",
       "      <td>64974909-0d4b-42a2-822a-73b5695e8bfb</td>\n",
       "    </tr>\n",
       "    <tr>\n",
       "      <th>120160</th>\n",
       "      <td>21:17:12</td>\n",
       "      <td>3</td>\n",
       "      <td>2008</td>\n",
       "      <td>18</td>\n",
       "      <td>Evening</td>\n",
       "      <td>55c228c7-14ee-4d46-99a9-01dfc57d1adf</td>\n",
       "    </tr>\n",
       "  </tbody>\n",
       "</table>\n",
       "<p>120146 rows × 6 columns</p>\n",
       "</div>"
      ],
      "text/plain": [
       "       timestamp month  year day time_period  \\\n",
       "0       22:00:06     9  2012  19     Evening   \n",
       "1       22:44:06     2  1997  10     Evening   \n",
       "2       10:05:37     4  1994  15     Morning   \n",
       "3       17:29:27    11  2001   6      Midday   \n",
       "4       22:40:33    12  2015  31     Evening   \n",
       "...          ...   ...   ...  ..         ...   \n",
       "120156  22:56:56    11  2022  12     Evening   \n",
       "120157  18:25:20     5  1997  31     Evening   \n",
       "120158  18:21:40     9  2011  13     Evening   \n",
       "120159  19:10:53     7  2013  12     Evening   \n",
       "120160  21:17:12     3  2008  18     Evening   \n",
       "\n",
       "                                   date_uuid  \n",
       "0       3b7ca996-37f9-433f-b6d0-ce8391b615ad  \n",
       "1       adc86836-6c35-49ca-bb0d-65b6507a00fa  \n",
       "2       5ff791bf-d8e0-4f86-8ceb-c7b60bef9b31  \n",
       "3       1b01fcef-5ab9-404c-b0d4-1e75a0bd19d8  \n",
       "4       dfa907c1-f6c5-40f0-aa0d-40ed77ac5a44  \n",
       "...                                      ...  \n",
       "120156  d6c4fb31-720d-4e94-aa6b-dcbcb85f2bb7  \n",
       "120157  f7722027-1aae-49c3-8f8d-853e93f9f3e6  \n",
       "120158  4a3b9851-52e1-463c-ac81-1960f141444e  \n",
       "120159  64974909-0d4b-42a2-822a-73b5695e8bfb  \n",
       "120160  55c228c7-14ee-4d46-99a9-01dfc57d1adf  \n",
       "\n",
       "[120146 rows x 6 columns]"
      ]
     },
     "execution_count": 56,
     "metadata": {},
     "output_type": "execute_result"
    }
   ],
   "source": [
    "date_times_df.dropna().drop_duplicates()"
   ]
  },
  {
   "cell_type": "code",
   "execution_count": 57,
   "metadata": {},
   "outputs": [
    {
     "ename": "TypeError",
     "evalue": "'float' object is not iterable",
     "output_type": "error",
     "traceback": [
      "\u001b[0;31m---------------------------------------------------------------------------\u001b[0m",
      "\u001b[0;31mTypeError\u001b[0m                                 Traceback (most recent call last)",
      "Cell \u001b[0;32mIn[57], line 22\u001b[0m\n\u001b[1;32m     19\u001b[0m     \u001b[39mreturn\u001b[39;00m cleaned_data\n\u001b[1;32m     21\u001b[0m month \u001b[39m=\u001b[39m date_times_df[\u001b[39m'\u001b[39m\u001b[39mmonth\u001b[39m\u001b[39m'\u001b[39m]\n\u001b[0;32m---> 22\u001b[0m date_times_df[\u001b[39m'\u001b[39m\u001b[39mmonth\u001b[39m\u001b[39m'\u001b[39m] \u001b[39m=\u001b[39m clean_month_data(month)\n",
      "Cell \u001b[0;32mIn[57], line 5\u001b[0m, in \u001b[0;36mclean_month_data\u001b[0;34m(month)\u001b[0m\n\u001b[1;32m      2\u001b[0m cleaned_data \u001b[39m=\u001b[39m []\n\u001b[1;32m      3\u001b[0m \u001b[39mfor\u001b[39;00m month_data \u001b[39min\u001b[39;00m month:\n\u001b[1;32m      4\u001b[0m     \u001b[39m# Remove non-numeric characters and check if the string is numeric\u001b[39;00m\n\u001b[0;32m----> 5\u001b[0m     cleaned_month \u001b[39m=\u001b[39m \u001b[39m'\u001b[39m\u001b[39m'\u001b[39m\u001b[39m.\u001b[39mjoin(\u001b[39mfilter\u001b[39;49m(\u001b[39mstr\u001b[39;49m\u001b[39m.\u001b[39;49misdigit, month_data))\n\u001b[1;32m      7\u001b[0m     \u001b[39m# Convert valid numeric strings to integers\u001b[39;00m\n\u001b[1;32m      8\u001b[0m     \u001b[39mif\u001b[39;00m cleaned_month\u001b[39m.\u001b[39misdigit():\n",
      "\u001b[0;31mTypeError\u001b[0m: 'float' object is not iterable"
     ]
    }
   ],
   "source": [
    "def clean_month_data(month):\n",
    "    cleaned_data = []\n",
    "    for month_data in month:\n",
    "        # Remove non-numeric characters and check if the string is numeric\n",
    "        cleaned_month = ''.join(filter(str.isdigit, month_data))\n",
    "        \n",
    "        # Convert valid numeric strings to integers\n",
    "        if cleaned_month.isdigit():\n",
    "            cleaned_month = int(cleaned_month)\n",
    "            # Validate if the month value is within the range (1 to 12)\n",
    "            if 1 <= cleaned_month <= 12:\n",
    "                cleaned_data.append(cleaned_month)\n",
    "            else:\n",
    "                # Handle invalid month values by replacing with None\n",
    "                cleaned_data.append(None)\n",
    "        else:\n",
    "            # Handle non-numeric or invalid values by replacing with None\n",
    "            cleaned_data.append(None)\n",
    "    return cleaned_data\n",
    "\n",
    "month = date_times_df['month']\n",
    "date_times_df['month'] = clean_month_data(month)\n",
    "\n"
   ]
  },
  {
   "cell_type": "code",
   "execution_count": 51,
   "metadata": {},
   "outputs": [
    {
     "data": {
      "text/plain": [
       "[9.0, 2.0, 4.0, 11.0, 12.0, 8.0, 1.0, 3.0, 7.0, 10.0, 5.0, 6.0, nan]"
      ]
     },
     "execution_count": 51,
     "metadata": {},
     "output_type": "execute_result"
    }
   ],
   "source": [
    "var_1 = list(date_times_df['month'].unique())\n",
    "var_1"
   ]
  },
  {
   "cell_type": "code",
   "execution_count": null,
   "metadata": {},
   "outputs": [],
   "source": []
  }
 ],
 "metadata": {
  "kernelspec": {
   "display_name": "base",
   "language": "python",
   "name": "python3"
  },
  "language_info": {
   "codemirror_mode": {
    "name": "ipython",
    "version": 3
   },
   "file_extension": ".py",
   "mimetype": "text/x-python",
   "name": "python",
   "nbconvert_exporter": "python",
   "pygments_lexer": "ipython3",
   "version": "3.12.2"
  },
  "orig_nbformat": 4
 },
 "nbformat": 4,
 "nbformat_minor": 2
}
